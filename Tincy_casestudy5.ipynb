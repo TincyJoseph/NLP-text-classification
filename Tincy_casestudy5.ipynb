{
  "nbformat": 4,
  "nbformat_minor": 0,
  "metadata": {
    "colab": {
      "provenance": [],
      "collapsed_sections": []
    },
    "kernelspec": {
      "name": "python3",
      "display_name": "Python 3"
    },
    "language_info": {
      "name": "python"
    }
  },
  "cells": [
    {
      "cell_type": "code",
      "execution_count": 1,
      "metadata": {
        "id": "MZ6byrg3Y2Er"
      },
      "outputs": [],
      "source": [
        "import numpy as np # linear algebra\n",
        "import pandas as pd \n",
        "import matplotlib.pyplot as plt\n",
        "import seaborn as sns\n",
        "import warnings\n",
        "warnings.filterwarnings('ignore')"
      ]
    },
    {
      "cell_type": "code",
      "source": [
        "# NLTK modules\n",
        "import nltk\n",
        "nltk.download('punkt')\n",
        "nltk.download('stopwords')\n",
        "nltk.download('wordnet')\n",
        "nltk.download('omw-1.4')"
      ],
      "metadata": {
        "colab": {
          "base_uri": "https://localhost:8080/"
        },
        "id": "oJYDDMoCeMpS",
        "outputId": "bc5afc7e-4e46-4c18-f3c2-5009535eba1e"
      },
      "execution_count": 2,
      "outputs": [
        {
          "output_type": "stream",
          "name": "stderr",
          "text": [
            "[nltk_data] Downloading package punkt to /root/nltk_data...\n",
            "[nltk_data]   Package punkt is already up-to-date!\n",
            "[nltk_data] Downloading package stopwords to /root/nltk_data...\n",
            "[nltk_data]   Package stopwords is already up-to-date!\n",
            "[nltk_data] Downloading package wordnet to /root/nltk_data...\n",
            "[nltk_data]   Package wordnet is already up-to-date!\n",
            "[nltk_data] Downloading package omw-1.4 to /root/nltk_data...\n",
            "[nltk_data]   Package omw-1.4 is already up-to-date!\n"
          ]
        },
        {
          "output_type": "execute_result",
          "data": {
            "text/plain": [
              "True"
            ]
          },
          "metadata": {},
          "execution_count": 2
        }
      ]
    },
    {
      "cell_type": "code",
      "source": [
        "import re\n",
        "from gensim.models import Word2Vec \n",
        "from sklearn.model_selection import GridSearchCV, train_test_split\n",
        "from sklearn.feature_extraction.text import TfidfVectorizer\n",
        "from sklearn.preprocessing import LabelEncoder\n",
        "from sklearn.pipeline import Pipeline\n",
        "from sklearn.naive_bayes import GaussianNB, MultinomialNB\n",
        "from sklearn.svm import SVC\n",
        "from sklearn.tree import DecisionTreeClassifier\n",
        "from sklearn.neural_network import MLPClassifier\n",
        "from sklearn.linear_model import SGDClassifier\n",
        "from sklearn.ensemble import GradientBoostingClassifier\n",
        "from sklearn.metrics import precision_score, recall_score, f1_score, accuracy_score"
      ],
      "metadata": {
        "id": "OkKsQjFneTv0"
      },
      "execution_count": 3,
      "outputs": []
    },
    {
      "cell_type": "code",
      "source": [
        "data=pd.read_csv(\"/content/BBC News.csv\")"
      ],
      "metadata": {
        "id": "ed8-437ded8n"
      },
      "execution_count": 4,
      "outputs": []
    },
    {
      "cell_type": "code",
      "source": [
        "data.head()"
      ],
      "metadata": {
        "colab": {
          "base_uri": "https://localhost:8080/",
          "height": 206
        },
        "id": "kfotosvQfNj3",
        "outputId": "59d0aeab-da4e-4501-f67e-41ceded0ac64"
      },
      "execution_count": 5,
      "outputs": [
        {
          "output_type": "execute_result",
          "data": {
            "text/plain": [
              "   ArticleId                                               Text  Category\n",
              "0       1833  worldcom ex-boss launches defence lawyers defe...  business\n",
              "1        154  german business confidence slides german busin...  business\n",
              "2       1101  bbc poll indicates economic gloom citizens in ...  business\n",
              "3       1976  lifestyle  governs mobile choice  faster  bett...      tech\n",
              "4        917  enron bosses in $168m payout eighteen former e...  business"
            ],
            "text/html": [
              "\n",
              "  <div id=\"df-738d24e7-263b-4a2e-a904-40c72cda5eb0\">\n",
              "    <div class=\"colab-df-container\">\n",
              "      <div>\n",
              "<style scoped>\n",
              "    .dataframe tbody tr th:only-of-type {\n",
              "        vertical-align: middle;\n",
              "    }\n",
              "\n",
              "    .dataframe tbody tr th {\n",
              "        vertical-align: top;\n",
              "    }\n",
              "\n",
              "    .dataframe thead th {\n",
              "        text-align: right;\n",
              "    }\n",
              "</style>\n",
              "<table border=\"1\" class=\"dataframe\">\n",
              "  <thead>\n",
              "    <tr style=\"text-align: right;\">\n",
              "      <th></th>\n",
              "      <th>ArticleId</th>\n",
              "      <th>Text</th>\n",
              "      <th>Category</th>\n",
              "    </tr>\n",
              "  </thead>\n",
              "  <tbody>\n",
              "    <tr>\n",
              "      <th>0</th>\n",
              "      <td>1833</td>\n",
              "      <td>worldcom ex-boss launches defence lawyers defe...</td>\n",
              "      <td>business</td>\n",
              "    </tr>\n",
              "    <tr>\n",
              "      <th>1</th>\n",
              "      <td>154</td>\n",
              "      <td>german business confidence slides german busin...</td>\n",
              "      <td>business</td>\n",
              "    </tr>\n",
              "    <tr>\n",
              "      <th>2</th>\n",
              "      <td>1101</td>\n",
              "      <td>bbc poll indicates economic gloom citizens in ...</td>\n",
              "      <td>business</td>\n",
              "    </tr>\n",
              "    <tr>\n",
              "      <th>3</th>\n",
              "      <td>1976</td>\n",
              "      <td>lifestyle  governs mobile choice  faster  bett...</td>\n",
              "      <td>tech</td>\n",
              "    </tr>\n",
              "    <tr>\n",
              "      <th>4</th>\n",
              "      <td>917</td>\n",
              "      <td>enron bosses in $168m payout eighteen former e...</td>\n",
              "      <td>business</td>\n",
              "    </tr>\n",
              "  </tbody>\n",
              "</table>\n",
              "</div>\n",
              "      <button class=\"colab-df-convert\" onclick=\"convertToInteractive('df-738d24e7-263b-4a2e-a904-40c72cda5eb0')\"\n",
              "              title=\"Convert this dataframe to an interactive table.\"\n",
              "              style=\"display:none;\">\n",
              "        \n",
              "  <svg xmlns=\"http://www.w3.org/2000/svg\" height=\"24px\"viewBox=\"0 0 24 24\"\n",
              "       width=\"24px\">\n",
              "    <path d=\"M0 0h24v24H0V0z\" fill=\"none\"/>\n",
              "    <path d=\"M18.56 5.44l.94 2.06.94-2.06 2.06-.94-2.06-.94-.94-2.06-.94 2.06-2.06.94zm-11 1L8.5 8.5l.94-2.06 2.06-.94-2.06-.94L8.5 2.5l-.94 2.06-2.06.94zm10 10l.94 2.06.94-2.06 2.06-.94-2.06-.94-.94-2.06-.94 2.06-2.06.94z\"/><path d=\"M17.41 7.96l-1.37-1.37c-.4-.4-.92-.59-1.43-.59-.52 0-1.04.2-1.43.59L10.3 9.45l-7.72 7.72c-.78.78-.78 2.05 0 2.83L4 21.41c.39.39.9.59 1.41.59.51 0 1.02-.2 1.41-.59l7.78-7.78 2.81-2.81c.8-.78.8-2.07 0-2.86zM5.41 20L4 18.59l7.72-7.72 1.47 1.35L5.41 20z\"/>\n",
              "  </svg>\n",
              "      </button>\n",
              "      \n",
              "  <style>\n",
              "    .colab-df-container {\n",
              "      display:flex;\n",
              "      flex-wrap:wrap;\n",
              "      gap: 12px;\n",
              "    }\n",
              "\n",
              "    .colab-df-convert {\n",
              "      background-color: #E8F0FE;\n",
              "      border: none;\n",
              "      border-radius: 50%;\n",
              "      cursor: pointer;\n",
              "      display: none;\n",
              "      fill: #1967D2;\n",
              "      height: 32px;\n",
              "      padding: 0 0 0 0;\n",
              "      width: 32px;\n",
              "    }\n",
              "\n",
              "    .colab-df-convert:hover {\n",
              "      background-color: #E2EBFA;\n",
              "      box-shadow: 0px 1px 2px rgba(60, 64, 67, 0.3), 0px 1px 3px 1px rgba(60, 64, 67, 0.15);\n",
              "      fill: #174EA6;\n",
              "    }\n",
              "\n",
              "    [theme=dark] .colab-df-convert {\n",
              "      background-color: #3B4455;\n",
              "      fill: #D2E3FC;\n",
              "    }\n",
              "\n",
              "    [theme=dark] .colab-df-convert:hover {\n",
              "      background-color: #434B5C;\n",
              "      box-shadow: 0px 1px 3px 1px rgba(0, 0, 0, 0.15);\n",
              "      filter: drop-shadow(0px 1px 2px rgba(0, 0, 0, 0.3));\n",
              "      fill: #FFFFFF;\n",
              "    }\n",
              "  </style>\n",
              "\n",
              "      <script>\n",
              "        const buttonEl =\n",
              "          document.querySelector('#df-738d24e7-263b-4a2e-a904-40c72cda5eb0 button.colab-df-convert');\n",
              "        buttonEl.style.display =\n",
              "          google.colab.kernel.accessAllowed ? 'block' : 'none';\n",
              "\n",
              "        async function convertToInteractive(key) {\n",
              "          const element = document.querySelector('#df-738d24e7-263b-4a2e-a904-40c72cda5eb0');\n",
              "          const dataTable =\n",
              "            await google.colab.kernel.invokeFunction('convertToInteractive',\n",
              "                                                     [key], {});\n",
              "          if (!dataTable) return;\n",
              "\n",
              "          const docLinkHtml = 'Like what you see? Visit the ' +\n",
              "            '<a target=\"_blank\" href=https://colab.research.google.com/notebooks/data_table.ipynb>data table notebook</a>'\n",
              "            + ' to learn more about interactive tables.';\n",
              "          element.innerHTML = '';\n",
              "          dataTable['output_type'] = 'display_data';\n",
              "          await google.colab.output.renderOutput(dataTable, element);\n",
              "          const docLink = document.createElement('div');\n",
              "          docLink.innerHTML = docLinkHtml;\n",
              "          element.appendChild(docLink);\n",
              "        }\n",
              "      </script>\n",
              "    </div>\n",
              "  </div>\n",
              "  "
            ]
          },
          "metadata": {},
          "execution_count": 5
        }
      ]
    },
    {
      "cell_type": "code",
      "source": [
        "# Plot category data\n",
        "plt.figure(figsize=(10,6))\n",
        "sns.countplot(data.Category.unique())\n",
        "plt.show()"
      ],
      "metadata": {
        "colab": {
          "base_uri": "https://localhost:8080/",
          "height": 374
        },
        "id": "xZuuGPz-e7bw",
        "outputId": "a11df078-6bfd-44a9-d95b-7483c2e0084c"
      },
      "execution_count": 6,
      "outputs": [
        {
          "output_type": "display_data",
          "data": {
            "text/plain": [
              "<Figure size 720x432 with 1 Axes>"
            ],
            "image/png": "[encoded data removed]"
          },
          "metadata": {
            "needs_background": "light"
          }
        }
      ]
    },
    {
      "cell_type": "code",
      "source": [
        "class DataPreparation:\n",
        "    def __init__(self, data, column='Text'):\n",
        "        self.df = data\n",
        "        self.column = column\n",
        "    \n",
        "    def preprocess(self):\n",
        "        self.tokenize()\n",
        "        self.remove_stopwords()\n",
        "        self.remove_non_words()\n",
        "        self.lemmatize_words()\n",
        "        return self.df\n",
        "    \n",
        "    def tokenize(self):\n",
        "        self.df['clean_text'] = self.df[self.column].apply(nltk.word_tokenize)\n",
        "        print(\"Tokenization is done.\")\n",
        "    \n",
        "    def remove_stopwords(self):\n",
        "        stopword_set = set(nltk.corpus.stopwords.words('english'))\n",
        "        \n",
        "        rem_stopword = lambda words: [item for item in words if item not in stopword_set]\n",
        "        self.df['clean_text'] = self.df['clean_text'].apply(rem_stopword)\n",
        "        print(\"Remove stopwords done.\")\n",
        "    \n",
        "    def remove_non_words(self):\n",
        "        \"\"\"\n",
        "            Remove all non alpha characters from the text data\n",
        "            :numbers: 0-9\n",
        "            :punctuation: All english punctuations\n",
        "            :special characters: All english special characters\n",
        "        \"\"\"\n",
        "        regpatrn = '[a-z]+'\n",
        "        rem_special_chars = lambda x: [item for item in x if re.match(regpatrn, item)]\n",
        "        self.df['clean_text'] = self.df['clean_text'].apply(rem_special_chars)\n",
        "        print(\"Removed non english characters is done.\")\n",
        "        \n",
        "    def lemmatize_words(self):\n",
        "        lemma = nltk.stem.wordnet.WordNetLemmatizer()\n",
        "        on_word_lemma = lambda x: [lemma.lemmatize(w, pos='v') for w in x]\n",
        "        \n",
        "        self.df['clean_text'] = self.df['clean_text'].apply(on_word_lemma)\n",
        "        print(\"Lemmatization on the words.\")"
      ],
      "metadata": {
        "id": "-IP3GFlqfomY"
      },
      "execution_count": 7,
      "outputs": []
    },
    {
      "cell_type": "code",
      "source": [
        "data_prep = DataPreparation(data)\n",
        "cleanse_df = data_prep.preprocess()\n"
      ],
      "metadata": {
        "colab": {
          "base_uri": "https://localhost:8080/"
        },
        "id": "hSYbQ7vxf_uq",
        "outputId": "5a0cd48f-4c47-4ce2-9500-56bfd8e9c0a3"
      },
      "execution_count": 8,
      "outputs": [
        {
          "output_type": "stream",
          "name": "stdout",
          "text": [
            "Tokenization is done.\n",
            "Remove stopwords done.\n",
            "Removed non english characters is done.\n",
            "Lemmatization on the words.\n"
          ]
        }
      ]
    },
    {
      "cell_type": "code",
      "source": [
        "cleanse_df['clean_text']"
      ],
      "metadata": {
        "colab": {
          "base_uri": "https://localhost:8080/"
        },
        "id": "s33ozkzXhsVZ",
        "outputId": "5df9cc26-c326-4cd3-9ac3-05733185aa6a"
      },
      "execution_count": 9,
      "outputs": [
        {
          "output_type": "execute_result",
          "data": {
            "text/plain": [
              "0       [worldcom, ex-boss, launch, defence, lawyers, ...\n",
              "1       [german, business, confidence, slide, german, ...\n",
              "2       [bbc, poll, indicate, economic, gloom, citizen...\n",
              "3       [lifestyle, govern, mobile, choice, faster, be...\n",
              "4       [enron, boss, payout, eighteen, former, enron,...\n",
              "                              ...                        \n",
              "1485    [double, eviction, big, brother, model, capric...\n",
              "1486    [dj, double, act, revamp, chart, show, dj, duo...\n",
              "1487    [weak, dollar, hit, reuters, revenues, media, ...\n",
              "1488    [apple, ipod, family, expand, market, apple, e...\n",
              "1489    [santy, worm, make, unwelcome, visit, thousand...\n",
              "Name: clean_text, Length: 1490, dtype: object"
            ]
          },
          "metadata": {},
          "execution_count": 9
        }
      ]
    },
    {
      "cell_type": "code",
      "source": [
        "vec_model = Word2Vec(cleanse_df['clean_text'])\n",
        "\n",
        "w2v = dict(zip(vec_model.wv.index2word, vec_model.wv.syn0))"
      ],
      "metadata": {
        "id": "ngCH7YWogEl5"
      },
      "execution_count": 10,
      "outputs": []
    },
    {
      "cell_type": "code",
      "source": [
        "class Vectorizer(object):\n",
        "    def __init__(self, vec):\n",
        "        self.vec = vec\n",
        "        self.dim = len(vec.values())\n",
        "        \n",
        "    def fit(self, X, y):\n",
        "        return self\n",
        "    \n",
        "    def transform(self, X):\n",
        "        return np.array([np.mean([self.vec[w] for w in words if w in self.vec] or [np.zeros(self.dim)], axis=0) for words in X])\n",
        "    \n",
        "\n",
        "    "
      ],
      "metadata": {
        "id": "X0O4Tt3Vh6Od"
      },
      "execution_count": 11,
      "outputs": []
    },
    {
      "cell_type": "code",
      "source": [
        "# Classifier class\n",
        "class Classifier(object):\n",
        "    def __init__(self, model, param):\n",
        "        self.model = model\n",
        "        self.param = param\n",
        "        self.gsearch = GridSearchCV(self.model, self.param, cv=5, error_score=0, refit=True)\n",
        "        \n",
        "    def fit(self, X, y):\n",
        "        return self.gsearch.fit(X, y)\n",
        "    \n",
        "    def predict(self, X):\n",
        "        return self.gsearch.predict(X)"
      ],
      "metadata": {
        "id": "FC6SmQbliA5Z"
      },
      "execution_count": 12,
      "outputs": []
    },
    {
      "cell_type": "code",
      "source": [
        "clf_models = {\n",
        "    'Naive Bayes': GaussianNB(),\n",
        "    'SVC': SVC(),\n",
        "    'Decision Tree': DecisionTreeClassifier(),\n",
        "    'SGD Classifier': SGDClassifier(),\n",
        "    'Perceptron': MLPClassifier()\n",
        "}\n",
        "\n",
        "clf_params = {\n",
        "    'Naive Bayes': {},\n",
        "    'SVC' : {'kernel': ['linear', 'rbf']},\n",
        "    'Decision Tree': {'min_samples_split': [2, 5]},\n",
        "    'SGD Classifier': { 'penalty': ['l2', 'l1', 'elasticnet'] },\n",
        "    'Perceptron': {'activation': ['tanh', 'relu']}\n",
        "}"
      ],
      "metadata": {
        "id": "TAPow_f8iHIK"
      },
      "execution_count": 13,
      "outputs": []
    },
    {
      "cell_type": "code",
      "source": [
        "#splitting the dataset\n",
        "X_train, X_valid, y_train, y_valid = train_test_split(cleanse_df['clean_text'], cleanse_df['Category'], test_size=0.2, shuffle=True)"
      ],
      "metadata": {
        "id": "rD7-eGZuiPtq"
      },
      "execution_count": 14,
      "outputs": []
    },
    {
      "cell_type": "code",
      "source": [
        "# Iterate through the model names\n",
        "for key in clf_models.keys():\n",
        "    \n",
        "    clf = Pipeline([('Word2Vec', Vectorizer(w2v)), ('Classifier', Classifier(clf_models[key], clf_params[key]))])\n",
        "    \n",
        "    # Fitting the data\n",
        "    clf.fit(X_train, y_train)\n",
        "    \n",
        "    y_preds = clf.predict(X_valid)\n",
        "    \n",
        "    \n",
        "    print(key, \":\")\n",
        "    print(\"Accuracy: %1.3f \\tPrecision: %1.3f \\tRecall: %1.3f \\tF1-Score: %1.3f\\n\" % (accuracy_score(y_valid, y_preds),\n",
        "                                                                                                                                                                          precision_score(y_valid, y_preds, average='macro'),\n",
        "                                                                                     recall_score(y_valid, y_preds, average='macro'),\n",
        "                                                                                     f1_score(y_valid, y_preds, average='macro')))"
      ],
      "metadata": {
        "colab": {
          "base_uri": "https://localhost:8080/"
        },
        "id": "YW8a7KPCibsd",
        "outputId": "097862c1-a833-4d55-80e2-e35af31ec4ec"
      },
      "execution_count": 15,
      "outputs": [
        {
          "output_type": "stream",
          "name": "stdout",
          "text": [
            "Naive Bayes :\n",
            "Accuracy: 0.876 \tPrecision: 0.874 \tRecall: 0.876 \tF1-Score: 0.873\n",
            "\n",
            "SVC :\n",
            "Accuracy: 0.909 \tPrecision: 0.908 \tRecall: 0.906 \tF1-Score: 0.906\n",
            "\n",
            "Decision Tree :\n",
            "Accuracy: 0.879 \tPrecision: 0.877 \tRecall: 0.878 \tF1-Score: 0.877\n",
            "\n",
            "SGD Classifier :\n",
            "Accuracy: 0.906 \tPrecision: 0.908 \tRecall: 0.905 \tF1-Score: 0.905\n",
            "\n",
            "Perceptron :\n",
            "Accuracy: 0.926 \tPrecision: 0.925 \tRecall: 0.923 \tF1-Score: 0.924\n",
            "\n"
          ]
        }
      ]
    }
  ]
}